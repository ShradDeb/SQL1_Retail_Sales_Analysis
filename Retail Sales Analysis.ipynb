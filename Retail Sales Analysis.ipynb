{
 "cells": [
  {
   "cell_type": "markdown",
   "id": "8eac2c70-6ef6-4091-a63a-58b1b36deca5",
   "metadata": {},
   "source": [
    "# Objectives\n",
    "1. Set up a retail sales database: Create and populate a retail sales database with the provided sales data\n",
    "2. Data Cleaning: Identify and remove any records with missing or null values\n",
    "3. Exploratory Data Analysis(EDA) : Perform basic exploratory data analysis to understand the dataset\n",
    "4. Business Analysis: Use SQL to answer specific business questions and derive insights from sales data. "
   ]
  },
  {
   "cell_type": "code",
   "execution_count": null,
   "id": "e655855b-0855-47b4-a65d-69125c8ff2c0",
   "metadata": {},
   "outputs": [],
   "source": []
  }
 ],
 "metadata": {
  "kernelspec": {
   "display_name": "Python [conda env:base] *",
   "language": "python",
   "name": "conda-base-py"
  },
  "language_info": {
   "codemirror_mode": {
    "name": "ipython",
    "version": 3
   },
   "file_extension": ".py",
   "mimetype": "text/x-python",
   "name": "python",
   "nbconvert_exporter": "python",
   "pygments_lexer": "ipython3",
   "version": "3.12.7"
  }
 },
 "nbformat": 4,
 "nbformat_minor": 5
}
